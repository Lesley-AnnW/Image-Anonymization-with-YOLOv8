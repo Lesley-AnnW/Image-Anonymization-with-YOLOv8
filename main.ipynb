{
  "cells": [
    {
      "cell_type": "code",
      "execution_count": null,
      "metadata": {
        "id": "KTdhzb7bHjkZ"
      },
      "outputs": [],
      "source": [
        "!pip install ultralytics"
      ]
    },
    {
      "cell_type": "code",
      "execution_count": null,
      "metadata": {
        "colab": {
          "base_uri": "https://localhost:8080/"
        },
        "id": "uLeKjSM8Duqw",
        "outputId": "873457a7-b78a-4a90-bc7a-59b8934c3fce"
      },
      "outputs": [
        {
          "name": "stdout",
          "output_type": "stream",
          "text": [
            "Downloading https://github.com/ultralytics/assets/releases/download/v8.3.0/yolo11x-seg.pt to 'yolo11x-seg.pt'...\n"
          ]
        },
        {
          "name": "stderr",
          "output_type": "stream",
          "text": [
            "100%|██████████| 119M/119M [00:00<00:00, 384MB/s]\n"
          ]
        }
      ],
      "source": [
        "# load libraries\n",
        "from huggingface_hub import hf_hub_download\n",
        "from ultralytics import YOLO\n",
        "from supervision import Detections\n",
        "from PIL import Image\n",
        "import cv2\n",
        "import numpy as np\n",
        "\n",
        "# download model\n",
        "model_path = hf_hub_download(repo_id=\"arnabdhar/YOLOv8-Face-Detection\", filename=\"model.pt\")\n",
        "\n",
        "# load model\n",
        "model = YOLO(model_path)\n",
        "seg_model = YOLO(\"yolo11x-seg.pt\")\n",
        "\n",
        "\n",
        "def detect_faces(image):\n",
        "    # inference\n",
        "    output = model(image)\n",
        "    return output\n",
        "\n",
        "def segment_people(image):\n",
        "    output = seg_model(image)\n",
        "    return output"
      ]
    },
    {
      "cell_type": "code",
      "execution_count": null,
      "metadata": {
        "id": "9nxKOV0_ImH_"
      },
      "outputs": [],
      "source": [
        "def blur_patches(image, detections, method='gaussian', kernel_size=71, mosaic_size=7):\n",
        "    \"\"\"\n",
        "    Blur detected face patches using specified method.\n",
        "\n",
        "    Args:\n",
        "        image: Original image (BGR format)\n",
        "        detections: Detection results from YOLO model\n",
        "        method: Blurring method ('gaussian', 'mosaic', or 'solid')\n",
        "        kernel_size: Size of Gaussian blur kernel (odd number)\n",
        "        mosaic_size: Size of mosaic cells\n",
        "\n",
        "    Returns:\n",
        "        Image with blurred face patches\n",
        "    \"\"\"\n",
        "    # Create a copy of the image to avoid modifying the original\n",
        "    result_image = image.copy()\n",
        "\n",
        "    # Get bounding boxes from detections\n",
        "    boxes = detections[0].boxes.xyxy.cpu().numpy()\n",
        "\n",
        "    for box in boxes:\n",
        "        x1, y1, x2, y2 = map(int, box[:4])\n",
        "        face_region = result_image[y1:y2, x1:x2]\n",
        "\n",
        "        if method == 'gaussian':\n",
        "            # Apply Gaussian blur\n",
        "            blurred = cv2.GaussianBlur(face_region, (kernel_size, kernel_size), 0)\n",
        "\n",
        "        elif method == 'mosaic':\n",
        "            # Create mosaic effect\n",
        "            height, width = face_region.shape[:2]\n",
        "            # Reduce size\n",
        "            small = cv2.resize(face_region, (mosaic_size, mosaic_size), interpolation=cv2.INTER_LINEAR)\n",
        "            # Increase size (creating mosaic effect)\n",
        "            blurred = cv2.resize(small, (width, height), interpolation=cv2.INTER_NEAREST)\n",
        "\n",
        "        elif method == 'solid':\n",
        "            # Create solid colored mask (using average color of region)\n",
        "            avg_color = np.mean(face_region, axis=(0, 1))\n",
        "            blurred = np.full_like(face_region, avg_color)\n",
        "\n",
        "        else:\n",
        "            raise ValueError(\"Method must be one of: 'gaussian', 'mosaic', 'solid'\")\n",
        "\n",
        "        # Replace the region in the result image\n",
        "        result_image[y1:y2, x1:x2] = blurred\n",
        "\n",
        "    return result_image"
      ]
    },
    {
      "cell_type": "code",
      "execution_count": null,
      "metadata": {
        "colab": {
          "base_uri": "https://localhost:8080/"
        },
        "id": "4Z9st4KlJg78",
        "outputId": "d63055ec-7135-410a-e0c6-86bee8606bbe"
      },
      "outputs": [
        {
          "name": "stdout",
          "output_type": "stream",
          "text": [
            "\n",
            "0: 640x512 1 FACE, 7.9ms\n",
            "Speed: 3.1ms preprocess, 7.9ms inference, 1.2ms postprocess per image at shape (1, 3, 640, 512)\n"
          ]
        },
        {
          "data": {
            "text/plain": [
              "True"
            ]
          },
          "execution_count": 81,
          "metadata": {},
          "output_type": "execute_result"
        }
      ],
      "source": [
        "# Load and process image\n",
        "image_path = \"/content/willem.jpeg\"\n",
        "image = cv2.imread(image_path)\n",
        "image_rgb = cv2.cvtColor(image, cv2.COLOR_BGR2RGB)\n",
        "results = detect_faces(image_rgb)\n",
        "\n",
        "# Apply different blur methods\n",
        "gaussian_blur = blur_patches(image, results, method='gaussian')\n",
        "mosaic_blur = blur_patches(image, results, method='mosaic')\n",
        "solid_blur = blur_patches(image, results, method='solid')\n",
        "\n",
        "# Display or save results\n",
        "cv2.imwrite('/content/gaussian_blur.jpg', gaussian_blur)\n",
        "cv2.imwrite('/content/mosaic_blur.jpg', mosaic_blur)\n",
        "cv2.imwrite('/content/solid_blur.jpg', solid_blur)"
      ]
    },
    {
      "cell_type": "code",
      "execution_count": null,
      "metadata": {
        "id": "4WlRJbOXMaay"
      },
      "outputs": [],
      "source": [
        "def blur_segmented_people(image, segmentations, method='gaussian', kernel_size=99, mosaic_size=15):\n",
        "    \"\"\"\n",
        "    Blur detected people using segmentation masks with specified method.\n",
        "\n",
        "    Args:\n",
        "        image: Original image (BGR format)\n",
        "        segmentations: Segmentation results from YOLO model\n",
        "        method: Blurring method ('gaussian', 'mosaic', or 'solid')\n",
        "        kernel_size: Size of Gaussian blur kernel (odd number)\n",
        "        mosaic_size: Size of mosaic cells\n",
        "\n",
        "    Returns:\n",
        "        Image with blurred people\n",
        "    \"\"\"\n",
        "    # Create a copy of the image to avoid modifying the original\n",
        "    result_image = image.copy()\n",
        "    height, width = image.shape[:2]\n",
        "\n",
        "    # Process each detected person's mask\n",
        "    for result in segmentations:\n",
        "        # Get masks from segmentation results\n",
        "        masks = result.masks.data.cpu().numpy()\n",
        "\n",
        "        for mask in masks:\n",
        "            # Convert mask to proper format and resize to match image dimensions\n",
        "            mask = mask.astype(np.uint8) * 255\n",
        "            mask = cv2.resize(mask, (width, height), interpolation=cv2.INTER_LINEAR)\n",
        "            # Create a 3-channel mask for multiplication\n",
        "            mask_3channel = cv2.cvtColor(mask, cv2.COLOR_GRAY2BGR) / 255.0\n",
        "\n",
        "            if method == 'gaussian':\n",
        "                # Apply Gaussian blur to the entire image\n",
        "                blurred = cv2.GaussianBlur(result_image, (kernel_size, kernel_size), 0)\n",
        "                # Blend original and blurred image using the mask\n",
        "                result_image = result_image * (1 - mask_3channel) + blurred * mask_3channel\n",
        "\n",
        "            elif method == 'mosaic':\n",
        "                # Create mosaic effect\n",
        "                # Reduce size\n",
        "                small = cv2.resize(result_image, (mosaic_size, mosaic_size), interpolation=cv2.INTER_LINEAR)\n",
        "                # Increase size (creating mosaic effect)\n",
        "                blurred = cv2.resize(small, (width, height), interpolation=cv2.INTER_NEAREST)\n",
        "                # Blend original and mosaic image using the mask\n",
        "                result_image = result_image * (1 - mask_3channel) + blurred * mask_3channel\n",
        "\n",
        "            elif method == 'solid':\n",
        "                # Create solid colored mask (using average color of masked region)\n",
        "                masked_region = result_image * mask_3channel\n",
        "                non_zero_pixels = cv2.countNonZero(mask)\n",
        "                if non_zero_pixels > 0:\n",
        "                    avg_color = np.sum(masked_region, axis=(0,1)) / non_zero_pixels\n",
        "                    solid = np.full_like(result_image, avg_color)\n",
        "                    # Blend original and solid color using the mask\n",
        "                    result_image = result_image * (1 - mask_3channel) + solid * mask_3channel\n",
        "\n",
        "            else:\n",
        "                raise ValueError(\"Method must be one of: 'gaussian', 'mosaic', 'solid'\")\n",
        "\n",
        "    return result_image.astype(np.uint8)"
      ]
    },
    {
      "cell_type": "code",
      "execution_count": null,
      "metadata": {
        "colab": {
          "base_uri": "https://localhost:8080/"
        },
        "id": "f3_ffABpLvn-",
        "outputId": "c73ebc1c-6ead-4ddb-bfaa-952f98f0d8ac"
      },
      "outputs": [
        {
          "name": "stdout",
          "output_type": "stream",
          "text": [
            "\n",
            "0: 640x512 1 person, 1 tie, 78.3ms\n",
            "Speed: 2.1ms preprocess, 78.3ms inference, 1.9ms postprocess per image at shape (1, 3, 640, 512)\n"
          ]
        },
        {
          "data": {
            "text/plain": [
              "True"
            ]
          },
          "execution_count": 109,
          "metadata": {},
          "output_type": "execute_result"
        }
      ],
      "source": [
        "image_path = \"/content/willem.jpeg\"\n",
        "image = cv2.imread(image_path)\n",
        "image_rgb = cv2.cvtColor(image, cv2.COLOR_BGR2RGB)\n",
        "segmentation_results = segment_people(image_rgb)\n",
        "\n",
        "# Apply different blur methods\n",
        "gaussian_blur = blur_segmented_people(image, segmentation_results, method='gaussian')\n",
        "mosaic_blur = blur_segmented_people(image, segmentation_results, method='mosaic')\n",
        "solid_blur = blur_segmented_people(image, segmentation_results, method='solid')\n",
        "\n",
        "# Display or save results\n",
        "cv2.imwrite('/content/gaussian_blur_seg.jpg', gaussian_blur)\n",
        "cv2.imwrite('/content/mosaic_blur_seg.jpg', mosaic_blur)\n",
        "  from google.colab.patches import cv2_imshowcv2.imwrite('/content/solid_blur_seg.jpg', solid_blur)"
      ]
    }
  ],
  "metadata": {
    "accelerator": "GPU",
    "colab": {
      "gpuType": "T4",
      "include_colab_link": true,
      "provenance": []
    },
    "kernelspec": {
      "display_name": "Python 3",
      "name": "python3"
    },
    "language_info": {
      "name": "python"
    }
  },
  "nbformat": 4,
  "nbformat_minor": 0
}
